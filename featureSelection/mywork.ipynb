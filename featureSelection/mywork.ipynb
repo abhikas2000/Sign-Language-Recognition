{
 "cells": [
  {
   "cell_type": "code",
   "execution_count": 3,
   "metadata": {},
   "outputs": [
    {
     "name": "stderr",
     "output_type": "stream",
     "text": [
      "2023-12-08 22:59:19.984325: E tensorflow/compiler/xla/stream_executor/cuda/cuda_dnn.cc:9342] Unable to register cuDNN factory: Attempting to register factory for plugin cuDNN when one has already been registered\n",
      "2023-12-08 22:59:19.984408: E tensorflow/compiler/xla/stream_executor/cuda/cuda_fft.cc:609] Unable to register cuFFT factory: Attempting to register factory for plugin cuFFT when one has already been registered\n",
      "2023-12-08 22:59:20.046817: E tensorflow/compiler/xla/stream_executor/cuda/cuda_blas.cc:1518] Unable to register cuBLAS factory: Attempting to register factory for plugin cuBLAS when one has already been registered\n",
      "2023-12-08 22:59:21.762351: I tensorflow/core/platform/cpu_feature_guard.cc:182] This TensorFlow binary is optimized to use available CPU instructions in performance-critical operations.\n",
      "To enable the following instructions: AVX2 FMA, in other operations, rebuild TensorFlow with the appropriate compiler flags.\n"
     ]
    }
   ],
   "source": [
    "import os\n",
    "import cv2\n",
    "import numpy as np\n",
    "import mediapipe as mp\n",
    "from math import dist\n",
    "import pandas as pd"
   ]
  },
  {
   "cell_type": "code",
   "execution_count": 4,
   "metadata": {},
   "outputs": [],
   "source": [
    "folder=os.path.join(\"data\")"
   ]
  },
  {
   "cell_type": "code",
   "execution_count": 5,
   "metadata": {},
   "outputs": [],
   "source": [
    "mp_hands=mp.solutions.hands\n",
    "mp_drawing=mp.solutions.drawing_utils\n",
    "mp_drawing_styles=mp.solutions.drawing_styles\n",
    "hands = mp_hands.Hands(static_image_mode=True, min_detection_confidence=0.7, max_num_hands=1)\n"
   ]
  },
  {
   "cell_type": "code",
   "execution_count": 6,
   "metadata": {},
   "outputs": [],
   "source": [
    "def distance_calculation(temp:{}):\n",
    "    res={}\n",
    "    for i in range(21):\n",
    "        for j in range(i+1,21):\n",
    "            temp1='('+str(i)+\",\"+str(j)+\")\"\n",
    "            res[temp1]=dist(temp[i],temp[j])\n",
    "    x=max(res.values())\n",
    "    for i in res.values():\n",
    "        i=i/x\n",
    "    res1=pd.DataFrame(res,index=[0])\n",
    "    return res1"
   ]
  },
  {
   "cell_type": "code",
   "execution_count": 10,
   "metadata": {},
   "outputs": [
    {
     "name": "stdout",
     "output_type": "stream",
     "text": [
      "         (0,1)     (0,2)     (0,3)     (0,4)     (0,5)     (0,6)     (0,7)  \\\n",
      "0     0.155956  0.292912  0.391528  0.471278  0.427361  0.519750  0.599439   \n",
      "1     0.153880  0.290080  0.388680  0.471529  0.425396  0.518414  0.598284   \n",
      "2     0.154368  0.288942  0.387246  0.468739  0.428465  0.516852  0.596118   \n",
      "3     0.153351  0.287299  0.384638  0.466048  0.428128  0.516305  0.594306   \n",
      "4     0.155952  0.289472  0.387022  0.470049  0.428845  0.517669  0.597083   \n",
      "...        ...       ...       ...       ...       ...       ...       ...   \n",
      "2585  0.053410  0.102435  0.128383  0.188981  0.348766  0.488495  0.527334   \n",
      "2586  0.056805  0.107311  0.132715  0.192016  0.354170  0.492760  0.528351   \n",
      "2587  0.053210  0.100768  0.125383  0.186310  0.346581  0.484797  0.524644   \n",
      "2588  0.053977  0.101461  0.126443  0.187509  0.347261  0.488085  0.525552   \n",
      "2589  0.053932  0.101931  0.127136  0.188589  0.350842  0.487841  0.527781   \n",
      "\n",
      "         (0,8)     (0,9)    (0,10)  ...   (16,18)   (16,19)   (16,20)  \\\n",
      "0     0.675149  0.331173  0.431711  ...  0.120679  0.121884  0.099517   \n",
      "1     0.673822  0.329250  0.430280  ...  0.120034  0.120841  0.098600   \n",
      "2     0.672207  0.332029  0.427725  ...  0.119691  0.120960  0.099870   \n",
      "3     0.670173  0.328808  0.426182  ...  0.119230  0.119941  0.100237   \n",
      "4     0.673435  0.331247  0.428690  ...  0.117854  0.118951  0.100330   \n",
      "...        ...       ...       ...  ...       ...       ...       ...   \n",
      "2585  0.495015  0.329415  0.354308  ...  0.108610  0.071160  0.044564   \n",
      "2586  0.494279  0.332019  0.358426  ...  0.114211  0.071681  0.043465   \n",
      "2587  0.489416  0.327242  0.356148  ...  0.101173  0.070820  0.047468   \n",
      "2588  0.489934  0.325829  0.354500  ...  0.105551  0.071876  0.045023   \n",
      "2589  0.494073  0.329578  0.357575  ...  0.105179  0.071689  0.046642   \n",
      "\n",
      "       (17,18)   (17,19)   (17,20)   (18,19)   (18,20)   (19,20)  Target  \n",
      "0     0.150454  0.125666  0.075654  0.051082  0.097679  0.056543       G  \n",
      "1     0.150610  0.125597  0.075342  0.050355  0.097211  0.056524       G  \n",
      "2     0.147760  0.123003  0.075380  0.052479  0.097874  0.055153       G  \n",
      "3     0.147629  0.120862  0.073263  0.053703  0.099708  0.055272       G  \n",
      "4     0.146191  0.119513  0.071984  0.051673  0.097642  0.054682       G  \n",
      "...        ...       ...       ...       ...       ...       ...     ...  \n",
      "2585  0.042623  0.089202  0.106607  0.074708  0.106777  0.041325       X  \n",
      "2586  0.041774  0.088396  0.105136  0.078171  0.108952  0.040071       X  \n",
      "2587  0.041658  0.090053  0.105465  0.074181  0.104090  0.040332       X  \n",
      "2588  0.041007  0.085953  0.098977  0.074149  0.102033  0.038845       X  \n",
      "2589  0.040561  0.087391  0.103488  0.074473  0.104797  0.040287       X  \n",
      "\n",
      "[2590 rows x 211 columns]\n"
     ]
    }
   ],
   "source": [
    "res={}\n",
    "for i in range(21):\n",
    "    for j in range(i+1,21):\n",
    "        temp1='('+str(i)+\",\"+str(j)+\")\"\n",
    "        res[temp1]=[]\n",
    "res[\"Target\"]=[]\n",
    "df=pd.DataFrame(res)\n",
    "\n",
    "for dir in os.listdir(folder):\n",
    "    for i in range(100):\n",
    "        x=os.path.join(folder, dir, str(i)+'.jpg')\n",
    "        img=cv2.imread(x)\n",
    "        img_rgb = cv2.cvtColor(img, cv2.COLOR_BGR2RGB)\n",
    "        results=hands.process(img_rgb)\n",
    "\n",
    "        if results.multi_hand_landmarks:\n",
    "            for hand_landmarks in results.multi_hand_landmarks:\n",
    "                myHand = results.multi_hand_landmarks[0]\n",
    "                temp={}\n",
    "                for id, lm in enumerate(myHand.landmark):\n",
    "                    temp[id]=[lm.x,lm.y]\n",
    "                df1=distance_calculation(temp)\n",
    "                df1[\"Target\"]=chr(int(dir)+65)\n",
    "                df=pd.concat([df,df1],ignore_index=True)\n",
    "\n",
    "print(df)"
   ]
  },
  {
   "cell_type": "code",
   "execution_count": 11,
   "metadata": {},
   "outputs": [],
   "source": [
    "df.to_csv(\"data.csv\")"
   ]
  }
 ],
 "metadata": {
  "kernelspec": {
   "display_name": "Python 3",
   "language": "python",
   "name": "python3"
  },
  "language_info": {
   "codemirror_mode": {
    "name": "ipython",
    "version": 3
   },
   "file_extension": ".py",
   "mimetype": "text/x-python",
   "name": "python",
   "nbconvert_exporter": "python",
   "pygments_lexer": "ipython3",
   "version": "3.10.7"
  }
 },
 "nbformat": 4,
 "nbformat_minor": 2
}
